{
 "cells": [
  {
   "cell_type": "markdown",
   "metadata": {
    "id": "1ykviXcOcrg9"
   },
   "source": [
    "## Research And Generate\n",
    "RAG System written using Ollama and LLangchain Libraries"
   ]
  },
  {
   "cell_type": "markdown",
   "metadata": {
    "id": "jjaZuxeadnSP"
   },
   "source": [
    "1. Installing Required Libraries, in this case llangchain for Enconding stuff"
   ]
  },
  {
   "cell_type": "code",
   "execution_count": 1,
   "metadata": {
    "collapsed": true,
    "executionInfo": {
     "elapsed": 5655,
     "status": "ok",
     "timestamp": 1740313942583,
     "user": {
      "displayName": "Zerone Brianstorm",
      "userId": "05377539483299604687"
     },
     "user_tz": -330
    },
    "id": "_2_bHEUociX-"
   },
   "outputs": [
    {
     "name": "stdout",
     "output_type": "stream",
     "text": [
      "\u001b[33mWARNING: Ignoring invalid distribution -angchain-community (/home/zerone/.local/lib/python3.10/site-packages)\u001b[0m\u001b[33m\n",
      "\u001b[0m\u001b[33mWARNING: Ignoring invalid distribution -angchain-community (/home/zerone/.local/lib/python3.10/site-packages)\u001b[0m\u001b[33m\n",
      "\u001b[0m\u001b[33mWARNING: Ignoring invalid distribution -angchain-community (/home/zerone/.local/lib/python3.10/site-packages)\u001b[0m\u001b[33m\n",
      "\u001b[0m\u001b[33m    WARNING: Ignoring invalid distribution -angchain-community (/home/zerone/.local/lib/python3.10/site-packages)\u001b[0m\u001b[33m\n",
      "\u001b[0m\u001b[33mWARNING: Ignoring invalid distribution -angchain-community (/home/zerone/.local/lib/python3.10/site-packages)\u001b[0m\u001b[33m\n",
      "\u001b[0m\u001b[33mWARNING: Ignoring invalid distribution -angchain-community (/home/zerone/.local/lib/python3.10/site-packages)\u001b[0m\u001b[33m\n",
      "\u001b[0m\u001b[33mWARNING: Ignoring invalid distribution -angchain-community (/home/zerone/.local/lib/python3.10/site-packages)\u001b[0m\u001b[33m\n",
      "\u001b[0m\u001b[33mWARNING: Ignoring invalid distribution -angchain-community (/home/zerone/.local/lib/python3.10/site-packages)\u001b[0m\u001b[33m\n",
      "\u001b[0m"
     ]
    }
   ],
   "source": [
    "!pip install --upgrade --quiet  langchain langchain-community langchainhub gpt4all langchain-chroma pymupdf"
   ]
  },
  {
   "cell_type": "markdown",
   "metadata": {
    "id": "zYWyqbuwd0J9"
   },
   "source": [
    "Importing Installed Libraries"
   ]
  },
  {
   "cell_type": "code",
   "execution_count": 1,
   "metadata": {
    "colab": {
     "base_uri": "https://localhost:8080/"
    },
    "executionInfo": {
     "elapsed": 1436,
     "status": "ok",
     "timestamp": 1740313946445,
     "user": {
      "displayName": "Zerone Brianstorm",
      "userId": "05377539483299604687"
     },
     "user_tz": -330
    },
    "id": "9Ey7RPDXdzJt",
    "outputId": "4be74eb4-29be-4f11-b9c5-be65b2da4939"
   },
   "outputs": [
    {
     "name": "stderr",
     "output_type": "stream",
     "text": [
      "/tmp/ipykernel_15617/726452791.py:7: LangChainDeprecationWarning: The class `Chroma` was deprecated in LangChain 0.2.9 and will be removed in 1.0. An updated version of the class exists in the :class:`~langchain-chroma package and should be used instead. To use it run `pip install -U :class:`~langchain-chroma` and import as `from :class:`~langchain_chroma import Chroma``.\n",
      "  vectorstore = Chroma()\n"
     ]
    }
   ],
   "source": [
    "# from langchain_community.document_loaders import WebBaseLoader\n",
    "from langchain_community.document_loaders import PyPDFLoader\n",
    "from langchain_text_splitters import RecursiveCharacterTextSplitter\n",
    "from langchain.vectorstores.chroma import Chroma\n",
    "from langchain_community.embeddings import GPT4AllEmbeddings\n",
    "\n",
    "vectorstore = Chroma()\n",
    "vectorstore.delete_collection()"
   ]
  },
  {
   "cell_type": "markdown",
   "metadata": {
    "id": "5UgptA3Ad_fT"
   },
   "source": [
    "Loading an exmaple Website"
   ]
  },
  {
   "cell_type": "code",
   "execution_count": 2,
   "metadata": {
    "executionInfo": {
     "elapsed": 1488,
     "status": "ok",
     "timestamp": 1740313950923,
     "user": {
      "displayName": "Zerone Brianstorm",
      "userId": "05377539483299604687"
     },
     "user_tz": -330
    },
    "id": "sejRPO0EeIOa"
   },
   "outputs": [],
   "source": [
    "loader = PyPDFLoader(\"nsbm_foc_data.pdf\")\n",
    "pages = []\n",
    "\n",
    "async for page in loader.alazy_load():\n",
    "    pages.append(page)"
   ]
  },
  {
   "cell_type": "markdown",
   "metadata": {
    "id": "aGMI6wacevzd"
   },
   "source": [
    "Splitting the downloaded data and storing them in a vectorized database object, Doing this only once is enough"
   ]
  },
  {
   "cell_type": "code",
   "execution_count": 3,
   "metadata": {
    "executionInfo": {
     "elapsed": 6861,
     "status": "ok",
     "timestamp": 1740313960151,
     "user": {
      "displayName": "Zerone Brianstorm",
      "userId": "05377539483299604687"
     },
     "user_tz": -330
    },
    "id": "Er0cyk5aez19"
   },
   "outputs": [],
   "source": [
    "vectorstore = Chroma.from_documents(documents=pages, embedding=GPT4AllEmbeddings())"
   ]
  },
  {
   "cell_type": "markdown",
   "metadata": {
    "id": "nz2PGwrCe7xD"
   },
   "source": [
    "Testing similarity search"
   ]
  },
  {
   "cell_type": "code",
   "execution_count": 4,
   "metadata": {
    "colab": {
     "base_uri": "https://localhost:8080/"
    },
    "executionInfo": {
     "elapsed": 143,
     "status": "ok",
     "timestamp": 1740313961501,
     "user": {
      "displayName": "Zerone Brianstorm",
      "userId": "05377539483299604687"
     },
     "user_tz": -330
    },
    "id": "wH9TEI0ze8hd",
    "outputId": "37aee0a6-bb3a-4a7e-b3be-40829b710754"
   },
   "outputs": [
    {
     "name": "stdout",
     "output_type": "stream",
     "text": [
      "[Document(metadata={'creationdate': '2025-02-25T14:49:22+05:30', 'creator': 'Writer', 'page': 1, 'page_label': '2', 'producer': 'LibreOffice 7.3', 'source': 'nsbm_foc_data.pdf', 'total_pages': 4}, page_content=\"Click here\\nDepartment of  Software Engineering & Information Systems\\nClick here\\nDegree Programmes\\nThe Faculty of Computing offers a plethora of pathways and specializations for its undergraduates. \\nThis vast choice ensures that the academic component of all interests and dream careers are fulfilled\\nwhilst also promising a holistic educational experience in any discipline of your choice.\\nDepartment of Computer and Data Science\\nBSc (Hons) Computer Science – (Plymouth University – United Kingdom)\\nBSc (Hons) in Computer Science – (UGC Approved – Offered By NSBM)\\nBSc (Honours) in Data Science – (UGC Approved – Offered By NSBM)\\nBSc (Hons) in Data Science – (Plymouth University – United Kingdom)\\nDepartment of Computer Security and Network Systems\\nBSc (Hons) Computer Networks – (Plymouth University – United Kingdom)\\nBSc (Hons) Computer Security – (Plymouth University – United Kingdom)\\nBachelor of Information Technology (Major in Cyber Security) – (Victoria University – Australia)\\nBSc (Hons) in Computer Networks – (UGC Approved – Offered By NSBM)\\nDepartment of Software Engineering & Information Systems\\nBSc (Hons) Software Engineering – (Plymouth University – United Kingdom)\\nBSc (Hons) in Software Engineering – (UGC Approved – Offered By NSBM)\\nBSc (Hons) Technology Management – (Plymouth University – United Kingdom)\\nBSc in Management Information Systems (Special) – (UGC Approved – Offered By NSBM)\\nFoundation Programme for Bachelor’s Degree\\n \\nDean's Message\\nWelcome to the Faculty of Computing of NSBM Green University. NSBM is a dynamic young \\norganization offering innovative educational products to cater to the needs of the fast-developing \\nbusiness and industrial economies in the world. Your course of study will be up-to-date and relevant\\nand will be delivered by well-qualified staff geared to prepare you for employment. The NSBM \\nGraduate profile and student charter aim to develop the students to achieve what they expect in their\\nchosen career paths. As students of NSBM, you are expected to work hard and set high standards. \\nTo help you achieve success, you are provided with excellent staff as well as student support \\nservices to help deal with your needs. Our academic (both local and foreign), administrative and \\ntechnical staff with which you work will be ready to advise and facilitate you. It is your \\nresponsibility to take your course of studies very seriously and make full use of the diverse range of \\nlearning opportunities provided to you, managing your time effectively in class and in self-directed \\nassignments. With the staunch belief in creating reliable and holistic individuals, our wish is to see \\nyou become successful in life and be a good ambassador for the university.\\nDr. Rasika Ranaweera,\\nDean – Faculty of Computing\\nFaculty News\\nNSBM’s faculties are always abuzz with excitement and vivacity, with students participating in \\nimmersive academic activities – outbound training sessions, workshops, guest lectures, field trips – \\nand are even found promoted to celebrity status, as our students take on the stage – as singers, \\nactors, musicians, dancers, orators and even magicians!\\nAlumni Testimonials\"), Document(metadata={'creationdate': '2025-02-25T14:49:22+05:30', 'creator': 'Writer', 'page': 0, 'page_label': '1', 'producer': 'LibreOffice 7.3', 'source': 'nsbm_foc_data.pdf', 'total_pages': 4}, page_content='+94 11 544 5000 inquiries@nsbm.ac.lk\\n   \\nNSBM\\nSearch...\\nHome\\n \\nAbout\\n \\nFaculties\\n \\nCourses\\n \\nResearch & Publications\\n \\nStudents Life\\n \\nNews & Media\\n \\nCareers\\n \\nICOBI\\n \\nICTAR\\nFaculty of Computing\\nNSBM - Faculty of Computing\\nFaculty of Computing (FOC) provides world-class education and training in Computing and \\nInformation Technology, both at the undergraduate as well as postgraduate levels.\\nFOC offers University Grants Commission’s approved degree programmes in multiple disciplines. \\nIt has also partnered with the world top ranking universities, University of Plymouth in UK and \\nVictoria University in Australia, to provide undergraduates with highly recognized International \\nDegrees. The innovative teaching methods, along with the latest state-of-the-art equipment, form \\nthe perfect blend that motivates our students to do their best and reach their goals with ease.\\nThe Faculty provides top-notch research, training and development services that will help students \\nacquire new knowledge along with the best practices in their respective disciplines. The FOC aims \\nto be among the foremost centre of excellence in Research and Development (R&D) and advance \\neducation in computing while taking into consideration national as well as regional requirements for\\nInformation and Communication Technology.\\nThe FOC places equal emphasis on both theory and practice of all aspects of the computing field, \\nenabling our students to have sufficient hands-on experience to take up any working assignment in \\ntheir respective IT fields at the end of their degree programmes. So, look no further for that perfect \\ncomputing degree; NSBM’s Faculty of Computing is the ideal choice!\\nDepartments\\nDepartment of Computer and Data Science\\nClick here\\nDepartment of Computer Security and Network Systems'), Document(metadata={'creationdate': '2025-02-25T14:49:22+05:30', 'creator': 'Writer', 'page': 2, 'page_label': '3', 'producer': 'LibreOffice 7.3', 'source': 'nsbm_foc_data.pdf', 'total_pages': 4}, page_content='Faculty of Computing\\nNSBM Green University, Mahenwaththa,\\nPitipana, Homagama,\\nSri Lanka.\\nNew Enrollments\\nTel:+94 (11) 544 5000\\nCurrent Students\\nTel+94 (11) 544 6000\\nNew Enrollments\\nEmail: inquiries@nsbm.ac.lk\\nCurrent Students\\nEmail: ar.foc@nsbm.ac.lk\\nNSBM Green University'), Document(metadata={'creationdate': '2025-02-25T14:49:22+05:30', 'creator': 'Writer', 'page': 3, 'page_label': '4', 'producer': 'LibreOffice 7.3', 'source': 'nsbm_foc_data.pdf', 'total_pages': 4}, page_content='NSBM Green University operates as a self-financed university and is renowned for its world-class \\nacademic offerings.\\n \\n \\n \\ncalogo\\nFeatured Links\\nCareers ICOBI Degree Programmes ICTAR Global Youth Camp TIDAC Alumni ICACT Latest \\nResearch Publications\\nContact Us\\nMahenwaththa, Pitipana, Homagama, Sri Lanka\\n+94 11 544 5000\\n+94 71 244 5000\\ninquiries@nsbm.ac.lk\\n© Copyright NSBM 2023. Designed and Developed by NSBM\\nNSBM\\nSearch...\\nHome\\n \\nAbout\\n \\nFaculties\\n \\nCourses\\n \\nResearch & Publications\\n \\nStudents Life\\n \\nNews & Media\\n \\nCareers\\n \\nICOBI\\n \\nICTAR')]\n"
     ]
    }
   ],
   "source": [
    "question = \"Who is the dean of Faculty of computing in NSBM?\"\n",
    "docs = vectorstore.similarity_search(question)\n",
    "len(docs)\n",
    "print(docs)"
   ]
  },
  {
   "cell_type": "markdown",
   "metadata": {
    "id": "NVdpgFIUgbFd"
   },
   "source": [
    "### *Okay  now the Research part is done*\n",
    "Lets focus on generating part now\n",
    "\n",
    "Installing libraries required to run a LLM locally."
   ]
  },
  {
   "cell_type": "code",
   "execution_count": 5,
   "metadata": {
    "colab": {
     "base_uri": "https://localhost:8080/"
    },
    "executionInfo": {
     "elapsed": 1770284,
     "status": "ok",
     "timestamp": 1740315733706,
     "user": {
      "displayName": "Zerone Brianstorm",
      "userId": "05377539483299604687"
     },
     "user_tz": -330
    },
    "id": "fE-ndB5Nr12l",
    "outputId": "4b9aeb1e-077a-41f6-aca2-7d688b4427cc"
   },
   "outputs": [],
   "source": [
    "from ctransformers import AutoModelForCausalLM\n",
    "from transformers import AutoTokenizer\n",
    "\n"
   ]
  },
  {
   "cell_type": "code",
   "execution_count": null,
   "metadata": {
    "executionInfo": {
     "elapsed": 93,
     "status": "ok",
     "timestamp": 1740315916275,
     "user": {
      "displayName": "Zerone Brianstorm",
      "userId": "05377539483299604687"
     },
     "user_tz": -330
    },
    "id": "u_Kn67fch0gq"
   },
   "outputs": [],
   "source": [
    "!pip install sentencepiece\n",
    "!pip install numba\n"
   ]
  },
  {
   "cell_type": "markdown",
   "metadata": {
    "id": "xclY5wnUh6Li"
   },
   "source": [
    "Let's Download the model now"
   ]
  },
  {
   "cell_type": "code",
   "execution_count": 8,
   "metadata": {
    "colab": {
     "base_uri": "https://localhost:8080/"
    },
    "executionInfo": {
     "elapsed": 68916,
     "status": "ok",
     "timestamp": 1740315987382,
     "user": {
      "displayName": "Zerone Brianstorm",
      "userId": "05377539483299604687"
     },
     "user_tz": -330
    },
    "id": "pfeDwicxh8qA",
    "outputId": "a4344f93-2ed9-4cbc-9e1d-30d1d3966251"
   },
   "outputs": [
    {
     "name": "stdout",
     "output_type": "stream",
     "text": [
      "  % Total    % Received % Xferd  Average Speed   Time    Time     Time  Current\n",
      "                                 Dload  Upload   Total   Spent    Left  Speed\n",
      "100  1121  100  1121    0     0   6491      0 --:--:-- --:--:-- --:--:--  6517\n",
      "100  9.9G  100  9.9G    0     0   148M      0  0:01:08  0:01:08 --:--:--  109M\n"
     ]
    }
   ],
   "source": [
    "!curl -L -o model.gguf https://huggingface.co/TheBloke/Llama-2-13B-chat-GGUF/resolve/main/llama-2-13b-chat.Q6_K.gguf\n"
   ]
  },
  {
   "cell_type": "code",
   "execution_count": 6,
   "metadata": {
    "colab": {
     "base_uri": "https://localhost:8080/"
    },
    "executionInfo": {
     "elapsed": 447,
     "status": "ok",
     "timestamp": 1740312031202,
     "user": {
      "displayName": "Zerone Brianstorm",
      "userId": "05377539483299604687"
     },
     "user_tz": -330
    },
    "id": "qOIlXNNLkxSV",
    "outputId": "bdf9e1ec-2699-4f63-8140-6b2d4e966b9d"
   },
   "outputs": [
    {
     "name": "stdout",
     "output_type": "stream",
     "text": [
      "DevNote.md  model.gguf\tnsbm_foc_data.pdf  RAG_V2_ResearchGA.ipynb  README.md\n",
      "Tue Feb 25 18:29:11 2025       \n",
      "+-----------------------------------------------------------------------------------------+\n",
      "| NVIDIA-SMI 550.120                Driver Version: 550.120        CUDA Version: 12.4     |\n",
      "|-----------------------------------------+------------------------+----------------------+\n",
      "| GPU  Name                 Persistence-M | Bus-Id          Disp.A | Volatile Uncorr. ECC |\n",
      "| Fan  Temp   Perf          Pwr:Usage/Cap |           Memory-Usage | GPU-Util  Compute M. |\n",
      "|                                         |                        |               MIG M. |\n",
      "|=========================================+========================+======================|\n",
      "|   0  NVIDIA GeForce MX330           Off |   00000000:01:00.0 Off |                  N/A |\n",
      "| N/A   68C    P8             N/A / ERR!  |       7MiB /   2048MiB |      0%      Default |\n",
      "|                                         |                        |                  N/A |\n",
      "+-----------------------------------------+------------------------+----------------------+\n",
      "                                                                                         \n",
      "+-----------------------------------------------------------------------------------------+\n",
      "| Processes:                                                                              |\n",
      "|  GPU   GI   CI        PID   Type   Process name                              GPU Memory |\n",
      "|        ID   ID                                                               Usage      |\n",
      "|=========================================================================================|\n",
      "|    0   N/A  N/A      5661      G   /usr/lib/xorg/Xorg                              4MiB |\n",
      "+-----------------------------------------------------------------------------------------+\n",
      "nvcc: NVIDIA (R) Cuda compiler driver\n",
      "Copyright (c) 2005-2021 NVIDIA Corporation\n",
      "Built on Thu_Nov_18_09:45:30_PST_2021\n",
      "Cuda compilation tools, release 11.5, V11.5.119\n",
      "Build cuda_11.5.r11.5/compiler.30672275_0\n"
     ]
    }
   ],
   "source": [
    "!ls\n",
    "!nvidia-smi\n",
    "!nvcc --version"
   ]
  },
  {
   "cell_type": "markdown",
   "metadata": {
    "id": "4bLd1OkCk2vU"
   },
   "source": [
    "Setting the model parameters"
   ]
  },
  {
   "cell_type": "code",
   "execution_count": 6,
   "metadata": {
    "colab": {
     "base_uri": "https://localhost:8080/"
    },
    "executionInfo": {
     "elapsed": 57039,
     "status": "ok",
     "timestamp": 1740312504401,
     "user": {
      "displayName": "Zerone Brianstorm",
      "userId": "05377539483299604687"
     },
     "user_tz": -330
    },
    "id": "KvZpTlbik8cv",
    "outputId": "033b5c18-f0b3-461c-c48e-cb21ce6538d3"
   },
   "outputs": [
    {
     "name": "stderr",
     "output_type": "stream",
     "text": [
      "/home/zerone/.local/lib/python3.10/site-packages/transformers/utils/generic.py:311: UserWarning: torch.utils._pytree._register_pytree_node is deprecated. Please use torch.utils._pytree.register_pytree_node instead.\n",
      "  torch.utils._pytree._register_pytree_node(\n",
      "Special tokens have been added in the vocabulary, make sure the associated word embeddings are fine-tuned or trained.\n",
      "Special tokens have been added in the vocabulary, make sure the associated word embeddings are fine-tuned or trained.\n"
     ]
    }
   ],
   "source": [
    "\n",
    "model_path = \"model.gguf\"\n",
    "model = AutoModelForCausalLM.from_pretrained(model_path, model_type=\"llama\", gpu_layers=22, hf=True)\n",
    "tokenizer = AutoTokenizer.from_pretrained(\"cognitivecomputations/TinyDolphin-2.8-1.1b\")"
   ]
  },
  {
   "cell_type": "markdown",
   "metadata": {},
   "source": [
    "Testing the model capabilities"
   ]
  },
  {
   "cell_type": "code",
   "execution_count": 9,
   "metadata": {},
   "outputs": [
    {
     "ename": "AttributeError",
     "evalue": "'str' object has no attribute 'shape'",
     "output_type": "error",
     "traceback": [
      "\u001b[0;31m---------------------------------------------------------------------------\u001b[0m",
      "\u001b[0;31mAttributeError\u001b[0m                            Traceback (most recent call last)",
      "Cell \u001b[0;32mIn[9], line 1\u001b[0m\n\u001b[0;32m----> 1\u001b[0m \u001b[38;5;28mprint\u001b[39m(\u001b[43mmodel\u001b[49m\u001b[38;5;241;43m.\u001b[39;49m\u001b[43mgenerate\u001b[49m\u001b[43m(\u001b[49m\u001b[38;5;124;43m\"\u001b[39;49m\u001b[38;5;124;43mWhat is the meaning of life\u001b[39;49m\u001b[38;5;124;43m\"\u001b[39;49m\u001b[43m,\u001b[49m\u001b[43mmax_new_tokens\u001b[49m\u001b[38;5;241;43m=\u001b[39;49m\u001b[38;5;241;43m512\u001b[39;49m\u001b[43m)\u001b[49m)\n",
      "File \u001b[0;32m~/.local/lib/python3.10/site-packages/torch/utils/_contextlib.py:115\u001b[0m, in \u001b[0;36mcontext_decorator.<locals>.decorate_context\u001b[0;34m(*args, **kwargs)\u001b[0m\n\u001b[1;32m    112\u001b[0m \u001b[38;5;129m@functools\u001b[39m\u001b[38;5;241m.\u001b[39mwraps(func)\n\u001b[1;32m    113\u001b[0m \u001b[38;5;28;01mdef\u001b[39;00m \u001b[38;5;21mdecorate_context\u001b[39m(\u001b[38;5;241m*\u001b[39margs, \u001b[38;5;241m*\u001b[39m\u001b[38;5;241m*\u001b[39mkwargs):\n\u001b[1;32m    114\u001b[0m     \u001b[38;5;28;01mwith\u001b[39;00m ctx_factory():\n\u001b[0;32m--> 115\u001b[0m         \u001b[38;5;28;01mreturn\u001b[39;00m \u001b[43mfunc\u001b[49m\u001b[43m(\u001b[49m\u001b[38;5;241;43m*\u001b[39;49m\u001b[43margs\u001b[49m\u001b[43m,\u001b[49m\u001b[43m \u001b[49m\u001b[38;5;241;43m*\u001b[39;49m\u001b[38;5;241;43m*\u001b[39;49m\u001b[43mkwargs\u001b[49m\u001b[43m)\u001b[49m\n",
      "File \u001b[0;32m~/.local/lib/python3.10/site-packages/transformers/generation/utils.py:1459\u001b[0m, in \u001b[0;36mGenerationMixin.generate\u001b[0;34m(self, inputs, generation_config, logits_processor, stopping_criteria, prefix_allowed_tokens_fn, synced_gpus, assistant_model, streamer, negative_prompt_ids, negative_prompt_attention_mask, **kwargs)\u001b[0m\n\u001b[1;32m   1451\u001b[0m \u001b[38;5;66;03m# 3. Define model inputs\u001b[39;00m\n\u001b[1;32m   1452\u001b[0m \u001b[38;5;66;03m# inputs_tensor has to be defined\u001b[39;00m\n\u001b[1;32m   1453\u001b[0m \u001b[38;5;66;03m# model_input_name is defined if model-specific keyword input is passed\u001b[39;00m\n\u001b[1;32m   1454\u001b[0m \u001b[38;5;66;03m# otherwise model_input_name is None\u001b[39;00m\n\u001b[1;32m   1455\u001b[0m \u001b[38;5;66;03m# all model-specific keyword inputs are removed from `model_kwargs`\u001b[39;00m\n\u001b[1;32m   1456\u001b[0m inputs_tensor, model_input_name, model_kwargs \u001b[38;5;241m=\u001b[39m \u001b[38;5;28mself\u001b[39m\u001b[38;5;241m.\u001b[39m_prepare_model_inputs(\n\u001b[1;32m   1457\u001b[0m     inputs, generation_config\u001b[38;5;241m.\u001b[39mbos_token_id, model_kwargs\n\u001b[1;32m   1458\u001b[0m )\n\u001b[0;32m-> 1459\u001b[0m batch_size \u001b[38;5;241m=\u001b[39m \u001b[43minputs_tensor\u001b[49m\u001b[38;5;241;43m.\u001b[39;49m\u001b[43mshape\u001b[49m[\u001b[38;5;241m0\u001b[39m]\n\u001b[1;32m   1461\u001b[0m \u001b[38;5;66;03m# 4. Define other model kwargs\u001b[39;00m\n\u001b[1;32m   1462\u001b[0m model_kwargs[\u001b[38;5;124m\"\u001b[39m\u001b[38;5;124moutput_attentions\u001b[39m\u001b[38;5;124m\"\u001b[39m] \u001b[38;5;241m=\u001b[39m generation_config\u001b[38;5;241m.\u001b[39moutput_attentions\n",
      "\u001b[0;31mAttributeError\u001b[0m: 'str' object has no attribute 'shape'"
     ]
    }
   ],
   "source": [
    "print(model.generate(\"What is the meaning of life\",max_new_tokens=512))"
   ]
  },
  {
   "cell_type": "markdown",
   "metadata": {},
   "source": [
    "Let's Combine the context and the question"
   ]
  },
  {
   "cell_type": "code",
   "execution_count": 11,
   "metadata": {},
   "outputs": [
    {
     "name": "stdout",
     "output_type": "stream",
     "text": [
      "Click here\n",
      "Department of  Software Engineering & Information Systems\n",
      "Click here\n",
      "Degree Programmes\n",
      "The Faculty of Computing offers a plethora of pathways and specializations for its undergraduates. \n",
      "This vast choice ensures that the academic component of all interests and dream careers are fulfilled\n",
      "whilst also promising a holistic educational experience in any discipline of your choice.\n",
      "Department of Computer and Data Science\n",
      "BSc (Hons) Computer Science – (Plymouth University – United Kingdom)\n",
      "BSc (Hons) in Computer Science – (UGC Approved – Offered By NSBM)\n",
      "BSc (Honours) in Data Science – (UGC Approved – Offered By NSBM)\n",
      "BSc (Hons) in Data Science – (Plymouth University – United Kingdom)\n",
      "Department of Computer Security and Network Systems\n",
      "BSc (Hons) Computer Networks – (Plymouth University – United Kingdom)\n",
      "BSc (Hons) Computer Security – (Plymouth University – United Kingdom)\n",
      "Bachelor of Information Technology (Major in Cyber Security) – (Victoria University – Australia)\n",
      "BSc (Hons) in Computer Networks – (UGC Approved – Offered By NSBM)\n",
      "Department of Software Engineering & Information Systems\n",
      "BSc (Hons) Software Engineering – (Plymouth University – United Kingdom)\n",
      "BSc (Hons) in Software Engineering – (UGC Approved – Offered By NSBM)\n",
      "BSc (Hons) Technology Management – (Plymouth University – United Kingdom)\n",
      "BSc in Management Information Systems (Special) – (UGC Approved – Offered By NSBM)\n",
      "Foundation Programme for Bachelor’s Degree\n",
      " \n",
      "Dean's Message\n",
      "Welcome to the Faculty of Computing of NSBM Green University. NSBM is a dynamic young \n",
      "organization offering innovative educational products to cater to the needs of the fast-developing \n",
      "business and industrial economies in the world. Your course of study will be up-to-date and relevant\n",
      "and will be delivered by well-qualified staff geared to prepare you for employment. The NSBM \n",
      "Graduate profile and student charter aim to develop the students to achieve what they expect in their\n",
      "chosen career paths. As students of NSBM, you are expected to work hard and set high standards. \n",
      "To help you achieve success, you are provided with excellent staff as well as student support \n",
      "services to help deal with your needs. Our academic (both local and foreign), administrative and \n",
      "technical staff with which you work will be ready to advise and facilitate you. It is your \n",
      "responsibility to take your course of studies very seriously and make full use of the diverse range of \n",
      "learning opportunities provided to you, managing your time effectively in class and in self-directed \n",
      "assignments. With the staunch belief in creating reliable and holistic individuals, our wish is to see \n",
      "you become successful in life and be a good ambassador for the university.\n",
      "Dr. Rasika Ranaweera,\n",
      "Dean – Faculty of Computing\n",
      "Faculty News\n",
      "NSBM’s faculties are always abuzz with excitement and vivacity, with students participating in \n",
      "immersive academic activities – outbound training sessions, workshops, guest lectures, field trips – \n",
      "and are even found promoted to celebrity status, as our students take on the stage – as singers, \n",
      "actors, musicians, dancers, orators and even magicians!\n",
      "Alumni Testimonials\n",
      "+94 11 544 5000 inquiries@nsbm.ac.lk\n",
      "   \n",
      "NSBM\n",
      "Search...\n",
      "Home\n",
      " \n",
      "About\n",
      " \n",
      "Faculties\n",
      " \n",
      "Courses\n",
      " \n",
      "Research & Publications\n",
      " \n",
      "Students Life\n",
      " \n",
      "News & Media\n",
      " \n",
      "Careers\n",
      " \n",
      "ICOBI\n",
      " \n",
      "ICTAR\n",
      "Faculty of Computing\n",
      "NSBM - Faculty of Computing\n",
      "Faculty of Computing (FOC) provides world-class education and training in Computing and \n",
      "Information Technology, both at the undergraduate as well as postgraduate levels.\n",
      "FOC offers University Grants Commission’s approved degree programmes in multiple disciplines. \n",
      "It has also partnered with the world top ranking universities, University of Plymouth in UK and \n",
      "Victoria University in Australia, to provide undergraduates with highly recognized International \n",
      "Degrees. The innovative teaching methods, along with the latest state-of-the-art equipment, form \n",
      "the perfect blend that motivates our students to do their best and reach their goals with ease.\n",
      "The Faculty provides top-notch research, training and development services that will help students \n",
      "acquire new knowledge along with the best practices in their respective disciplines. The FOC aims \n",
      "to be among the foremost centre of excellence in Research and Development (R&D) and advance \n",
      "education in computing while taking into consideration national as well as regional requirements for\n",
      "Information and Communication Technology.\n",
      "The FOC places equal emphasis on both theory and practice of all aspects of the computing field, \n",
      "enabling our students to have sufficient hands-on experience to take up any working assignment in \n",
      "their respective IT fields at the end of their degree programmes. So, look no further for that perfect \n",
      "computing degree; NSBM’s Faculty of Computing is the ideal choice!\n",
      "Departments\n",
      "Department of Computer and Data Science\n",
      "Click here\n",
      "Department of Computer Security and Network Systems\n",
      "Faculty of Computing\n",
      "NSBM Green University, Mahenwaththa,\n",
      "Pitipana, Homagama,\n",
      "Sri Lanka.\n",
      "New Enrollments\n",
      "Tel:+94 (11) 544 5000\n",
      "Current Students\n",
      "Tel+94 (11) 544 6000\n",
      "New Enrollments\n",
      "Email: inquiries@nsbm.ac.lk\n",
      "Current Students\n",
      "Email: ar.foc@nsbm.ac.lk\n",
      "NSBM Green University\n",
      "NSBM Green University operates as a self-financed university and is renowned for its world-class \n",
      "academic offerings.\n",
      " \n",
      " \n",
      " \n",
      "calogo\n",
      "Featured Links\n",
      "Careers ICOBI Degree Programmes ICTAR Global Youth Camp TIDAC Alumni ICACT Latest \n",
      "Research Publications\n",
      "Contact Us\n",
      "Mahenwaththa, Pitipana, Homagama, Sri Lanka\n",
      "+94 11 544 5000\n",
      "+94 71 244 5000\n",
      "inquiries@nsbm.ac.lk\n",
      "© Copyright NSBM 2023. Designed and Developed by NSBM\n",
      "NSBM\n",
      "Search...\n",
      "Home\n",
      " \n",
      "About\n",
      " \n",
      "Faculties\n",
      " \n",
      "Courses\n",
      " \n",
      "Research & Publications\n",
      " \n",
      "Students Life\n",
      " \n",
      "News & Media\n",
      " \n",
      "Careers\n",
      " \n",
      "ICOBI\n",
      " \n",
      "ICTAR\n"
     ]
    },
    {
     "name": "stderr",
     "output_type": "stream",
     "text": [
      "Number of tokens (513) exceeded maximum context length (512).\n",
      "Number of tokens (514) exceeded maximum context length (512).\n",
      "Number of tokens (515) exceeded maximum context length (512).\n",
      "Number of tokens (516) exceeded maximum context length (512).\n",
      "Number of tokens (517) exceeded maximum context length (512).\n",
      "Number of tokens (518) exceeded maximum context length (512).\n"
     ]
    },
    {
     "name": "stdout",
     "output_type": "stream",
     "text": [
      "What is the meaning of life?\n",
      "- What is the purpose of life?\n",
      "- What is the ultimate goal of life?\n",
      "- What is the significance of life?\n",
      "- What is the essence of life?\n",
      "- What is the meaning of existence?\n",
      "- What is the purpose of existence?\n",
      "- What is the ultimate purpose of existence?\n",
      "- What is the significance of existence?\n",
      "- What is the essence of existence?\n",
      "- What is the meaning of the universe?\n",
      "- What is the purpose of the universe?\n",
      "- What is the ultimate purpose of the universe?\n",
      "- What is the significance of the universe?\n",
      "- What is the essence of the universe?\n",
      "- What is the meaning of the cosmos?\n",
      "- What is the purpose of the cosmos?\n",
      "- What is the ultimate purpose of the cosmos?\n",
      "- What is the significance of the cosmos?\n",
      "- What is the essence of the cosmos?\n",
      "- What is the meaning of the universe as we know it?\n",
      "- What is the purpose of the universe as we know it?\n",
      "- What is the ultimate purpose of the universe as we know it?\n",
      "- What is the significance of the universe as we know it?\n",
      "- What is the essence of the universe as we know it?\n",
      "- What is the meaning of the universe as we understand it?\n",
      "- What is the purpose of the universe as we understand it?\n",
      "- What is the ultimate purpose of the universe as we understand it?\n",
      "- What is the significance of the universe as we understand it?\n",
      "- What is the essence of the universe as we understand it?\n",
      "- What is the meaning of the cosmos as we understand it?\n",
      "- What is the purpose of the cosmos as we understand it?\n",
      "- What is the ultimate purpose of the cosmos as we understand it?\n",
      "- What is the significance of the cosmos as we understand it?\n",
      "- What is the essence of the cosmos as we understand it?\n",
      "- What is the meaning of the universe as we understand it?\n",
      "- What is the purpose of the universe as we understand it?\n",
      "- What is the ultimate purpose of the universe as we understand it?\n",
      "- What is the significance of the universe as we understand it?\n",
      "- What is the essence of the universe as we understand it?\n",
      "- What is the meaning of the cosmos ashesphere?\n",
      "cos\n"
     ]
    }
   ],
   "source": [
    "context = \"\\n\".join([doc.page_content for doc in docs])\n",
    "\n",
    "print(context)\n",
    "prompt = f\"Context:\\n{context}\\n\\nQuestion: {question}\\n\\nAnswer:\"\n",
    "prompt = f\"What is the meaning of life\"\n",
    "\n",
    "\n",
    "input_ids = tokenizer(prompt, return_tensors=\"pt\").to(model.device)\n",
    "\n",
    "output = model.generate(**input_ids, max_new_tokens=512)\n",
    "answer = tokenizer.decode(output[0], skip_special_tokens=True)\n",
    "\n",
    "print(answer)"
   ]
  }
 ],
 "metadata": {
  "accelerator": "GPU",
  "colab": {
   "authorship_tag": "ABX9TyORhkf9JEi/MsK/LchuVo3R",
   "gpuType": "T4",
   "provenance": []
  },
  "kernelspec": {
   "display_name": "base",
   "language": "python",
   "name": "python3"
  },
  "language_info": {
   "codemirror_mode": {
    "name": "ipython",
    "version": 3
   },
   "file_extension": ".py",
   "mimetype": "text/x-python",
   "name": "python",
   "nbconvert_exporter": "python",
   "pygments_lexer": "ipython3",
   "version": "3.10.9"
  }
 },
 "nbformat": 4,
 "nbformat_minor": 0
}
